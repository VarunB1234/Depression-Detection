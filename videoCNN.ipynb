{
  "cells": [
    {
      "cell_type": "markdown",
      "metadata": {
        "id": "view-in-github",
        "colab_type": "text"
      },
      "source": [
        "<a href=\"https://colab.research.google.com/github/VarunB1234/Depression-Detection/blob/main/videoCNN.ipynb\" target=\"_parent\"><img src=\"https://colab.research.google.com/assets/colab-badge.svg\" alt=\"Open In Colab\"/></a>"
      ]
    },
    {
      "cell_type": "code",
      "execution_count": 1,
      "metadata": {
        "colab": {
          "base_uri": "https://localhost:8080/"
        },
        "id": "pFG20HnWdrYP",
        "outputId": "3f3fba69-4b2d-4851-e13b-e5a09cd45e70"
      },
      "outputs": [
        {
          "output_type": "stream",
          "name": "stdout",
          "text": [
            "Drive already mounted at /content/drive; to attempt to forcibly remount, call drive.mount(\"/content/drive\", force_remount=True).\n"
          ]
        },
        {
          "output_type": "stream",
          "name": "stderr",
          "text": [
            "/usr/local/lib/python3.11/dist-packages/keras/src/layers/convolutional/base_conv.py:107: UserWarning: Do not pass an `input_shape`/`input_dim` argument to a layer. When using Sequential models, prefer using an `Input(shape)` object as the first layer in the model instead.\n",
            "  super().__init__(activity_regularizer=activity_regularizer, **kwargs)\n"
          ]
        },
        {
          "output_type": "stream",
          "name": "stdout",
          "text": [
            "Epoch 1/5\n",
            "\u001b[1m39/39\u001b[0m \u001b[32m━━━━━━━━━━━━━━━━━━━━\u001b[0m\u001b[37m\u001b[0m \u001b[1m30s\u001b[0m 630ms/step - loss: 85175.2344\n",
            "Epoch 2/5\n",
            "\u001b[1m39/39\u001b[0m \u001b[32m━━━━━━━━━━━━━━━━━━━━\u001b[0m\u001b[37m\u001b[0m \u001b[1m22s\u001b[0m 557ms/step - loss: 30713.3926\n",
            "Epoch 3/5\n",
            "\u001b[1m39/39\u001b[0m \u001b[32m━━━━━━━━━━━━━━━━━━━━\u001b[0m\u001b[37m\u001b[0m \u001b[1m20s\u001b[0m 518ms/step - loss: 50492.0664\n",
            "Epoch 4/5\n",
            "\u001b[1m39/39\u001b[0m \u001b[32m━━━━━━━━━━━━━━━━━━━━\u001b[0m\u001b[37m\u001b[0m \u001b[1m20s\u001b[0m 510ms/step - loss: 17271.0371\n",
            "Epoch 5/5\n",
            "\u001b[1m39/39\u001b[0m \u001b[32m━━━━━━━━━━━━━━━━━━━━\u001b[0m\u001b[37m\u001b[0m \u001b[1m20s\u001b[0m 516ms/step - loss: 962.1739\n",
            "\u001b[1m2/2\u001b[0m \u001b[32m━━━━━━━━━━━━━━━━━━━━\u001b[0m\u001b[37m\u001b[0m \u001b[1m2s\u001b[0m 292ms/step\n",
            "              precision    recall  f1-score   support\n",
            "\n",
            "           0       0.83      0.43      0.57        23\n",
            "           1       0.43      0.83      0.57        12\n",
            "\n",
            "    accuracy                           0.57        35\n",
            "   macro avg       0.63      0.63      0.57        35\n",
            "weighted avg       0.70      0.57      0.57        35\n",
            "\n"
          ]
        }
      ],
      "source": [
        "from google.colab import drive\n",
        "drive.mount('/content/drive')\n",
        "\n",
        "import numpy as np\n",
        "import pandas as pd\n",
        "from keras.models import Sequential\n",
        "from keras.layers import Conv1D, MaxPooling1D, Flatten, Dense\n",
        "from sklearn.metrics import classification_report\n",
        "\n",
        "# ------------------ Preprocessing Functions ------------------\n",
        "\n",
        "def processData(data):\n",
        "    X = data.iloc[:, :].values\n",
        "    X = np.delete(X, 0, 1)\n",
        "    X = np.delete(X, 1, 1)\n",
        "    for i in range(len(X)):\n",
        "        if isinstance(X[i][5], str) or isinstance(X[i][7], str):\n",
        "            X[i] = np.zeros((X.shape[1],))\n",
        "    return X\n",
        "\n",
        "def getData(filename):\n",
        "    data = pd.read_csv(filename, delimiter=',', engine='python')\n",
        "    X = processData(data)\n",
        "    return X\n",
        "\n",
        "def makeDataPoint(patientNo):\n",
        "    file_base = patientNo\n",
        "    paths = [f\"{file_base}_CLNF_AUs.txt\",\n",
        "             f\"{file_base}_CLNF_features.txt\",\n",
        "             f\"{file_base}_CLNF_features3D.txt\",\n",
        "             f\"{file_base}_CLNF_gaze.txt\",\n",
        "             f\"{file_base}_CLNF_pose.txt\"]\n",
        "    arrays = [getData(path) for path in paths]\n",
        "    return np.concatenate(arrays, axis=1)\n",
        "\n",
        "def scale_down(X):\n",
        "    X_new = []\n",
        "    size = 2\n",
        "    for i in range(int(X.shape[0] / size)):\n",
        "        cur_row = X[i * size]\n",
        "        for j in range(1, size):\n",
        "            if i + j < X.shape[0]:\n",
        "                cur_row += X[i + j]\n",
        "        cur_row = cur_row / size\n",
        "        X_new.append(cur_row)\n",
        "    return np.array(X_new)\n",
        "\n",
        "def decrease_size(X):\n",
        "    size = 10000\n",
        "    if X.shape[0] < size:\n",
        "        padding = np.zeros((size - X.shape[0], X.shape[1]))\n",
        "        X = np.concatenate((X, padding), axis=0)\n",
        "    elif X.shape[0] > size:\n",
        "        X = X[:size, :]\n",
        "    return X\n",
        "\n",
        "def makeDataset(location, folder):\n",
        "    file = np.array(pd.read_csv(location, delimiter=',', encoding='utf-8'))[:, 0:2]\n",
        "    X_temp = []\n",
        "    Y_temp = []\n",
        "    for i in range(len(file)):\n",
        "        patientID = str(int(file[i][0]))\n",
        "        file_path = f'/content/drive/My Drive/MCA Dataset/{folder}/{patientID}'\n",
        "        XT = makeDataPoint(file_path)\n",
        "        XT = scale_down(XT)\n",
        "        XT = decrease_size(XT)\n",
        "        X_temp.append(XT)\n",
        "        Y_temp.append(int(file[i][1]))\n",
        "    return np.array(X_temp, dtype=np.float32), np.array(Y_temp)\n",
        "\n",
        "# ------------------ CNN Video Model ------------------\n",
        "\n",
        "class CNN_Video:\n",
        "    def __init__(self):\n",
        "        self.classifier = Sequential()\n",
        "        self.classifier.add(Conv1D(300, 3, input_shape=(10000, 388), activation='relu'))\n",
        "        self.classifier.add(MaxPooling1D(pool_size=2))\n",
        "        self.classifier.add(Conv1D(150, 3, activation='relu'))\n",
        "        self.classifier.add(MaxPooling1D(pool_size=2))\n",
        "        self.classifier.add(Conv1D(75, 3, activation='relu'))\n",
        "        self.classifier.add(MaxPooling1D(pool_size=2))\n",
        "        self.classifier.add(Conv1D(32, 3, activation='relu'))\n",
        "        self.classifier.add(MaxPooling1D(pool_size=2))\n",
        "        self.classifier.add(Flatten())\n",
        "        self.classifier.add(Dense(units=128, activation='relu'))\n",
        "        self.classifier.add(Dense(units=1, activation='sigmoid'))\n",
        "        self.classifier.compile(optimizer='adam', loss='binary_crossentropy')\n",
        "\n",
        "    def fitModel(self, Xtrain, Ytrain, epoch=5):\n",
        "        return self.classifier.fit(Xtrain, Ytrain, epochs=epoch, batch_size=4)\n",
        "\n",
        "    def predictModel(self, X):\n",
        "        return self.classifier.predict(X)\n",
        "\n",
        "# ------------------ Load Data ------------------\n",
        "\n",
        "# Load training data (train + test)\n",
        "X_train, Y_train = makeDataset('/content/drive/My Drive/MCA Dataset/train_split_Depression_AVEC2017.csv', 'train_data')\n",
        "X_test, Y_test = makeDataset('/content/drive/My Drive/MCA Dataset/full_test_split.csv', 'test_data')\n",
        "\n",
        "X_train_total = np.concatenate((X_train, X_test), axis=0)\n",
        "Y_train_total = np.concatenate((Y_train, Y_test), axis=0)\n",
        "\n",
        "# Load validation data (dev)\n",
        "X_val, Y_val = makeDataset('/content/drive/My Drive/MCA Dataset/dev_split_Depression_AVEC2017.csv', 'dev_data')\n",
        "\n",
        "# ------------------ Train and Evaluate ------------------\n",
        "\n",
        "model = CNN_Video()\n",
        "model.fitModel(X_train_total, Y_train_total, epoch=5)\n",
        "\n",
        "# Predict on dev set\n",
        "Y_val_pred = model.predictModel(X_val)\n",
        "Y_val_pred_class = [1 if p > 0.5 else 0 for p in Y_val_pred]\n",
        "\n",
        "print(classification_report(Y_val, Y_val_pred_class))\n"
      ]
    }
  ],
  "metadata": {
    "colab": {
      "machine_shape": "hm",
      "provenance": [],
      "authorship_tag": "ABX9TyMpWiaRpdtk8k2peYRpGkun",
      "include_colab_link": true
    },
    "kernelspec": {
      "display_name": "Python 3",
      "name": "python3"
    },
    "language_info": {
      "name": "python"
    }
  },
  "nbformat": 4,
  "nbformat_minor": 0
}