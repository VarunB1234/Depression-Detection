{
  "nbformat": 4,
  "nbformat_minor": 0,
  "metadata": {
    "colab": {
      "provenance": [],
      "machine_shape": "hm",
      "authorship_tag": "ABX9TyMmVK9qb2oTmF0h99FimmUe",
      "include_colab_link": true
    },
    "kernelspec": {
      "name": "python3",
      "display_name": "Python 3"
    },
    "language_info": {
      "name": "python"
    }
  },
  "cells": [
    {
      "cell_type": "markdown",
      "metadata": {
        "id": "view-in-github",
        "colab_type": "text"
      },
      "source": [
        "<a href=\"https://colab.research.google.com/github/VarunB1234/Depression-Detection/blob/main/SVF%20video.ipynb\" target=\"_parent\"><img src=\"https://colab.research.google.com/assets/colab-badge.svg\" alt=\"Open In Colab\"/></a>"
      ]
    },
    {
      "cell_type": "code",
      "source": [
        "# Mount Google Drive\n",
        "from google.colab import drive\n",
        "drive.mount('/content/drive')\n",
        "\n",
        "# Imports\n",
        "import pandas as pd\n",
        "import numpy as np\n",
        "from sklearn.ensemble import RandomForestClassifier\n",
        "from sklearn.svm import SVC\n",
        "from sklearn.metrics import classification_report\n",
        "\n",
        "# Feature processing functions\n",
        "def processData(data):\n",
        "    X = data.iloc[:,:].values\n",
        "    X = np.delete(X, 0, 1)\n",
        "    X = np.delete(X, 1, 1)\n",
        "    X = np.mean(X, 0)\n",
        "    return X.reshape(1, -1)\n",
        "\n",
        "def getData(filename):\n",
        "    data = pd.read_csv(filename, delimiter=',')\n",
        "    return processData(data)\n",
        "\n",
        "def makeDataPoint(basePath):\n",
        "    files = [\n",
        "        \"_CLNF_AUs.txt\",\n",
        "        \"_CLNF_features.txt\",\n",
        "        \"_CLNF_features3D.txt\",\n",
        "        \"_CLNF_gaze.txt\",\n",
        "        \"_CLNF_pose.txt\"\n",
        "    ]\n",
        "    X_parts = [getData(basePath + f) for f in files]\n",
        "    return np.concatenate(X_parts, axis=1)\n",
        "\n",
        "# Function to build dataset from CSV and folder\n",
        "def makeDataset(csv_path, folder_name):\n",
        "    dataset = np.array(pd.read_csv(csv_path, delimiter=',', encoding='utf-8'))[:, 0:2]\n",
        "    X = np.zeros((1, 388))  # Assuming total features after concatenation\n",
        "    Y = []\n",
        "\n",
        "    for i in range(len(dataset)):\n",
        "        patient_id = str(int(dataset[i][0]))\n",
        "        label = int(dataset[i][1])\n",
        "        try:\n",
        "            path = f\"/content/drive/My Drive/MCA Dataset/{folder_name}/{patient_id}\"\n",
        "            X_temp = makeDataPoint(path)\n",
        "            X = np.concatenate((X, X_temp), axis=0)\n",
        "            Y.append(label)\n",
        "        except Exception as e:\n",
        "            print(f\"Skipping {patient_id} due to error: {e}\")\n",
        "\n",
        "    X = np.delete(X, 0, 0)  # Remove placeholder row\n",
        "    Y = np.array(Y)\n",
        "    return X, Y\n",
        "\n",
        "# Load datasets\n",
        "X_train, Y_train = makeDataset('/content/drive/My Drive/MCA Dataset/train_split_Depression_AVEC2017.csv', 'train_data')\n",
        "X_dev, Y_dev     = makeDataset('/content/drive/My Drive/MCA Dataset/dev_split_Depression_AVEC2017.csv', 'dev_data')\n",
        "X_test, Y_test   = makeDataset('/content/drive/My Drive/MCA Dataset/full_test_split.csv', 'test_data')\n",
        "\n",
        "# Combine train and dev sets\n",
        "X_train = np.concatenate((X_train, X_dev), axis=0)\n",
        "Y_train = np.concatenate((Y_train, Y_dev), axis=0)\n",
        "\n",
        "# Train Random Forest\n",
        "clf1 = RandomForestClassifier()\n",
        "clf1.fit(X_train, Y_train)\n",
        "print(\"Random forest: test\", clf1.score(X_test, Y_test))\n",
        "print(\"Random forest: train\", clf1.score(X_train, Y_train))\n",
        "\n",
        "# Train SVM\n",
        "clf2 = SVC(kernel='rbf', random_state=0)\n",
        "clf2.fit(X_train, Y_train)\n",
        "print(\"SVM: test\", clf2.score(X_test, Y_test))\n",
        "print(\"SVM: train\", clf2.score(X_train, Y_train))\n",
        "\n",
        "# Detailed classification report\n",
        "y_pred = clf2.predict(X_test)\n",
        "print(\"SVM Classification Report:\")\n",
        "print(classification_report(Y_test, y_pred))\n"
      ],
      "metadata": {
        "colab": {
          "base_uri": "https://localhost:8080/"
        },
        "id": "uG09bbsI_u6_",
        "outputId": "93bb90ef-f5e6-40c2-f626-38d19cc7ffbc"
      },
      "execution_count": 4,
      "outputs": [
        {
          "output_type": "stream",
          "name": "stdout",
          "text": [
            "Drive already mounted at /content/drive; to attempt to forcibly remount, call drive.mount(\"/content/drive\", force_remount=True).\n"
          ]
        },
        {
          "output_type": "stream",
          "name": "stderr",
          "text": [
            "<ipython-input-4-ac70cd2e8e40>:21: DtypeWarning: Columns (4,5,6,7,8,9,10,11,12,13,14,15,16,17,18,19,20,21,22,23,24,25,26,27,28,29,30,31,32,33,34,35,36,37,38,39,40,41,42,43,44,45,46,47,48,49,50,51,52,53,54,55,56,57,58,59,60,61,62,63,64,65,66,67,68,69,70,71,72,73,74,75,76,77,78,79,80,81,82,83,84,85,86,87,88,89,90,91,92,93,94,95,96,97,98,99,100,101,102,103,104,105,106,107,108,109,110,111,112,113,114,115,116,117,118,119,120,121,122,123,124,125,126,127,128,129,130,131,132,133,134,135,136,137,138,139) have mixed types. Specify dtype option on import or set low_memory=False.\n",
            "  data = pd.read_csv(filename, delimiter=',')\n"
          ]
        },
        {
          "output_type": "stream",
          "name": "stdout",
          "text": [
            "Skipping 367 due to error: can only concatenate str (not \"float\") to str\n"
          ]
        },
        {
          "output_type": "stream",
          "name": "stderr",
          "text": [
            "<ipython-input-4-ac70cd2e8e40>:21: DtypeWarning: Columns (4,5,6,7,8,9,10,11,12,13,14,15,16,17,18,19,20,21,22,23,24,25,26,27,28,29,30,31,32,33,34,35,36,37,38,39,40,41,42,43,44,45,46,47,48,49,50,51,52,53,54,55,56,57,58,59,60,61,62,63,64,65,66,67,68,69,70,71,72,73,74,75,76,77,78,79,80,81,82,83,84,85,86,87,88,89,90,91,92,93,94,95,96,97,98,99,100,101,102,103,104,105,106,107,108,109,110,111,112,113,114,115,116,117,118,119,120,121,122,123,124,125,126,127,128,129,130,131,132,133,134,135,136,137,138,139) have mixed types. Specify dtype option on import or set low_memory=False.\n",
            "  data = pd.read_csv(filename, delimiter=',')\n"
          ]
        },
        {
          "output_type": "stream",
          "name": "stdout",
          "text": [
            "Skipping 396 due to error: unsupported operand type(s) for +: 'float' and 'str'\n"
          ]
        },
        {
          "output_type": "stream",
          "name": "stderr",
          "text": [
            "<ipython-input-4-ac70cd2e8e40>:21: DtypeWarning: Columns (4,5,6,7,8,9,10,11,12,13,14,15,16,17,18,19,20,21,22,23,24,25,26,27,28,29,30,31,32,33,34,35,36,37,38,39,40,41,42,43,44,45,46,47,48,49,50,51,52,53,54,55,56,57,58,59,60,61,62,63,64,65,66,67,68,69,70,71,72,73,74,75,76,77,78,79,80,81,82,83,84,85,86,87,88,89,90,91,92,93,94,95,96,97,98,99,100,101,102,103,104,105,106,107,108,109,110,111,112,113,114,115,116,117,118,119,120,121,122,123,124,125,126,127,128,129,130,131,132,133,134,135,136,137,138,139) have mixed types. Specify dtype option on import or set low_memory=False.\n",
            "  data = pd.read_csv(filename, delimiter=',')\n"
          ]
        },
        {
          "output_type": "stream",
          "name": "stdout",
          "text": [
            "Skipping 432 due to error: can only concatenate str (not \"float\") to str\n",
            "Random forest: test 0.6\n",
            "Random forest: train 1.0\n",
            "SVM: test 0.6888888888888889\n",
            "SVM: train 0.7092198581560284\n",
            "SVM Classification Report:\n",
            "              precision    recall  f1-score   support\n",
            "\n",
            "           0       0.69      1.00      0.82        31\n",
            "           1       0.00      0.00      0.00        14\n",
            "\n",
            "    accuracy                           0.69        45\n",
            "   macro avg       0.34      0.50      0.41        45\n",
            "weighted avg       0.47      0.69      0.56        45\n",
            "\n"
          ]
        },
        {
          "output_type": "stream",
          "name": "stderr",
          "text": [
            "/usr/local/lib/python3.11/dist-packages/sklearn/metrics/_classification.py:1565: UndefinedMetricWarning: Precision is ill-defined and being set to 0.0 in labels with no predicted samples. Use `zero_division` parameter to control this behavior.\n",
            "  _warn_prf(average, modifier, f\"{metric.capitalize()} is\", len(result))\n",
            "/usr/local/lib/python3.11/dist-packages/sklearn/metrics/_classification.py:1565: UndefinedMetricWarning: Precision is ill-defined and being set to 0.0 in labels with no predicted samples. Use `zero_division` parameter to control this behavior.\n",
            "  _warn_prf(average, modifier, f\"{metric.capitalize()} is\", len(result))\n",
            "/usr/local/lib/python3.11/dist-packages/sklearn/metrics/_classification.py:1565: UndefinedMetricWarning: Precision is ill-defined and being set to 0.0 in labels with no predicted samples. Use `zero_division` parameter to control this behavior.\n",
            "  _warn_prf(average, modifier, f\"{metric.capitalize()} is\", len(result))\n"
          ]
        }
      ]
    }
  ]
}