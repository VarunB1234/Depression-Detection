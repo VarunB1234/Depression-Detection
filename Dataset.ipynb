{
  "nbformat": 4,
  "nbformat_minor": 0,
  "metadata": {
    "colab": {
      "provenance": [],
      "authorship_tag": "ABX9TyPKpaguQo9Q37BXiQdxRG/L",
      "include_colab_link": true
    },
    "kernelspec": {
      "name": "python3",
      "display_name": "Python 3"
    },
    "language_info": {
      "name": "python"
    }
  },
  "cells": [
    {
      "cell_type": "markdown",
      "metadata": {
        "id": "view-in-github",
        "colab_type": "text"
      },
      "source": [
        "<a href=\"https://colab.research.google.com/github/VarunB1234/Depression-Detection/blob/main/Dataset.ipynb\" target=\"_parent\"><img src=\"https://colab.research.google.com/assets/colab-badge.svg\" alt=\"Open In Colab\"/></a>"
      ]
    },
    {
      "cell_type": "code",
      "execution_count": 5,
      "metadata": {
        "colab": {
          "base_uri": "https://localhost:8080/"
        },
        "id": "Gdvx3Cglmh5L",
        "outputId": "246f2250-973a-4974-9b5e-32799e6f0caf"
      },
      "outputs": [
        {
          "output_type": "stream",
          "name": "stdout",
          "text": [
            "Drive already mounted at /content/drive; to attempt to forcibly remount, call drive.mount(\"/content/drive\", force_remount=True).\n"
          ]
        }
      ],
      "source": [
        "from google.colab import drive\n",
        "drive.mount('/content/drive')"
      ]
    },
    {
      "cell_type": "code",
      "source": [
        "import os\n",
        "\n",
        "# Change directory to your dataset location\n",
        "dataset_path = \"/content/drive/My Drive/MCA Dataset\"\n",
        "os.chdir(dataset_path)"
      ],
      "metadata": {
        "id": "lb4mIcGmmwK7"
      },
      "execution_count": 6,
      "outputs": []
    },
    {
      "cell_type": "code",
      "source": [
        "!mkdir -p train_data test_data dev_data"
      ],
      "metadata": {
        "id": "OK94Dr6_m2nR"
      },
      "execution_count": 7,
      "outputs": []
    },
    {
      "cell_type": "code",
      "source": [
        "import numpy as np\n",
        "import pandas as pd\n",
        "\n",
        "dev_path = \"/content/drive/My Drive/MCA Dataset/dev_split_Depression_AVEC2017.csv\"\n",
        "test_path = \"/content/drive/My Drive/MCA Dataset/full_test_split.csv\"\n",
        "train_path = \"/content/drive/My Drive/MCA Dataset/train_split_Depression_AVEC2017.csv\"\n",
        "\n",
        "dev = np.array(pd.read_csv(dev_path, delimiter=',', encoding='utf-8'))[:, 0:2]\n",
        "test = np.array(pd.read_csv(test_path, delimiter=',', encoding='utf-8'))[:, 0:2]\n",
        "train = np.array(pd.read_csv(train_path, delimiter=',', encoding='utf-8'))[:, 0:2]\n"
      ],
      "metadata": {
        "id": "UYXASI6rm6gi"
      },
      "execution_count": 9,
      "outputs": []
    },
    {
      "cell_type": "code",
      "source": [
        "for i in range(len(dev)):\n",
        "    zip_file = f\"/content/drive/My Drive/MCA Dataset/{int(dev[i][0])}_P.zip\"\n",
        "    if os.path.exists(zip_file):\n",
        "        !unzip -q \"{zip_file}\" -d dev_data\n",
        "\n",
        "for i in range(len(test)):\n",
        "    zip_file = f\"/content/drive/My Drive/MCA Dataset/{int(test[i][0])}_P.zip\"\n",
        "    if os.path.exists(zip_file):\n",
        "        !unzip -q \"{zip_file}\" -d test_data\n",
        "\n",
        "for i in range(len(train)):\n",
        "    zip_file = f\"/content/drive/My Drive/MCA Dataset/{int(train[i][0])}_P.zip\"\n",
        "    if os.path.exists(zip_file):\n",
        "        !unzip -q \"{zip_file}\" -d train_data"
      ],
      "metadata": {
        "id": "wtLqbF2UntuH"
      },
      "execution_count": 10,
      "outputs": []
    }
  ]
}